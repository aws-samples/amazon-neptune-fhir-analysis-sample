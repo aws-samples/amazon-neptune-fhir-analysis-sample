{
 "cells": [
  {
   "cell_type": "markdown",
   "metadata": {},
   "source": [
    "## Analyzing healthcare FHIR data with Amazon Neptune"
   ]
  },
  {
   "attachments": {},
   "cell_type": "markdown",
   "metadata": {},
   "source": [
    "This Jupyter Notebook extends the walkthrough described in the blog on [Analyzing healthcare FHIR data with Amazon Neptune](Link TBD). Go through the set up steps 1-3 described in the blog before issuing the queries below."
   ]
  },
  {
   "cell_type": "markdown",
   "metadata": {},
   "source": [
    "## 1. Basic introduction to SPARQL"
   ]
  },
  {
   "cell_type": "markdown",
   "metadata": {},
   "source": [
    "SPARQL is used to retrieve triples from an RDF graph. \n",
    "A triple is a statement consisting of subject, predicate, and object. All elements are referenced by URIs. For further details refer to the official [SPARQL specification](https://www.w3.org/TR/rdf-sparql-query/#construct).\n",
    "\n",
    "The following query retrieves ten random triple from the Amazon Neptune graph database. "
   ]
  },
  {
   "cell_type": "code",
   "execution_count": null,
   "metadata": {},
   "outputs": [],
   "source": [
    "%%sparql --expand-all\n",
    "\n",
    "SELECT *\n",
    "WHERE\n",
    "{ ?s ?p ?o . }\n",
    "LIMIT 10"
   ]
  },
  {
   "cell_type": "markdown",
   "metadata": {},
   "source": [
    "You can specify which triples you want to retrieve by specifiying subject, predicate, and/or object. In the example below we introduce a variable for the subject. The query retrieves all triples of a variable subject that is related to the object <http://hl7.org/fhir/QuestionnaireResponse> via the predicate <http://www.w3.org/1999/02/22-rdf-syntax-ns#type>. This triple matches subjects that are of the type QuestionnaireResponse. Instead of returning all values, we only return the values of the subjects. In this case ten questionnaire response IDs."
   ]
  },
  {
   "cell_type": "code",
   "execution_count": null,
   "metadata": {},
   "outputs": [],
   "source": [
    "%%sparql --expand-all\n",
    "\n",
    "SELECT ?questionnaireResponse\n",
    "WHERE\n",
    "{ \n",
    "    ?questionnaireResponse <http://www.w3.org/1999/02/22-rdf-syntax-ns#type> <http://hl7.org/fhir/QuestionnaireResponse> .\n",
    "}\n",
    "LIMIT 10"
   ]
  },
  {
   "cell_type": "markdown",
   "metadata": {},
   "source": [
    "For better readability, we introduce two Prefixes, fhir and rdf, that can be used in the WHERE clause."
   ]
  },
  {
   "cell_type": "code",
   "execution_count": null,
   "metadata": {},
   "outputs": [],
   "source": [
    "%%sparql --expand-all\n",
    "\n",
    "PREFIX fhir: <http://hl7.org/fhir/>\n",
    "PREFIX rdf: <http://www.w3.org/1999/02/22-rdf-syntax-ns#>\n",
    "\n",
    "SELECT ?questionnaireResponse\n",
    "WHERE\n",
    "{ \n",
    "        ?questionnaireResponse rdf:type fhir:QuestionnaireResponse .\n",
    "}\n",
    "LIMIT 10"
   ]
  },
  {
   "cell_type": "markdown",
   "metadata": {},
   "source": [
    "Instead of SELECT you can use CONSTRUCT to return a new RDF graph. You can specify the format of this graph in the CONSTRUCT section. \n",
    "\n",
    "You can use slahes to combine multiple predicates that should be followed by the query.\n",
    "\n",
    "The query below constructs a new graph based on the information of patient to questionnaire responses mapping. Navigate to the *Graph* tab to view the graph visualization."
   ]
  },
  {
   "cell_type": "code",
   "execution_count": null,
   "metadata": {},
   "outputs": [],
   "source": [
    "%%sparql --expand-all\n",
    "\n",
    "PREFIX fhir: <http://hl7.org/fhir/>\n",
    "PREFIX qr: <http://hl7.org/fhir/QuestionnaireResponse.>\n",
    "\n",
    "CONSTRUCT   { \n",
    "    ?questionnaireResponse fhir:value ?patient .\n",
    "    \n",
    "    ?questionnaireResponse a fhir:QuestionnaireResponse ;\n",
    "    ?patient a fhir:Patient .\n",
    "}\n",
    "WHERE       { \n",
    "    ?questionnaireResponse qr:subject/fhir:Reference.reference/fhir:value ?patient .\n",
    "}"
   ]
  },
  {
   "cell_type": "markdown",
   "metadata": {},
   "source": [
    "## 2. Sample Queries"
   ]
  },
  {
   "cell_type": "markdown",
   "metadata": {},
   "source": [
    "### Identify patients, that work(ed) in same industry"
   ]
  },
  {
   "cell_type": "code",
   "execution_count": 4,
   "metadata": {},
   "outputs": [
    {
     "data": {
      "application/vnd.jupyter.widget-view+json": {
       "model_id": "25b4180739a0402baa996dbe959d0f30",
       "version_major": 2,
       "version_minor": 0
      },
      "text/plain": [
       "Tab(children=(Output(layout=Layout(max_height='600px', max_width='940px', overflow='scroll')), Force(network=<…"
      ]
     },
     "metadata": {},
     "output_type": "display_data"
    }
   ],
   "source": [
    "%%sparql --expand-all\n",
    "\n",
    "PREFIX fhir: <http://hl7.org/fhir/>\n",
    "PREFIX qr: <http://hl7.org/fhir/QuestionnaireResponse.>\n",
    "\n",
    "CONSTRUCT {\n",
    "    ?questionnaireResponse fhir:value ?patient ;\n",
    "        fhir:value ?industryAnswer .\n",
    "    \n",
    "    ?questionnaireResponse a fhir:QuestionnaireResponse ;\n",
    "    ?patient a fhir:Patient .\n",
    "}\n",
    "WHERE {\n",
    "    ?questionnaireResponse qr:subject/fhir:Reference.reference/fhir:value ?patient ;\n",
    "        qr:item/qr:item.item ?item8_2 .\n",
    "    ?item8_2 qr:item.item.answer/qr:item.item.answer.valueString/fhir:value ?industryAnswer ;\n",
    "       qr:item.item.linkId/fhir:value \"8.2\" .\n",
    "}"
   ]
  },
  {
   "cell_type": "markdown",
   "metadata": {},
   "source": [
    "### Identify practitioners, that authored questionnaires of patients working in same industry"
   ]
  },
  {
   "cell_type": "code",
   "execution_count": null,
   "metadata": {},
   "outputs": [],
   "source": [
    "%%sparql --expand-all\n",
    "\n",
    "PREFIX fhir: <http://hl7.org/fhir/>\n",
    "PREFIX qr: <http://hl7.org/fhir/QuestionnaireResponse.>\n",
    "\n",
    "CONSTRUCT {\n",
    "    ?questionnaireResponse fhir:value ?patient ;\n",
    "        fhir:value ?practitioner ;\n",
    "        fhir:value ?industryAnswer .\n",
    "    \n",
    "    ?questionnaireResponse a fhir:QuestionnaireResponse ;\n",
    "    ?patient a fhir:Patient .\n",
    "    ?practitioner a fhir:Practitioner .\n",
    "}\n",
    "WHERE {\n",
    "    ?questionnaireResponse qr:subject/fhir:Reference.reference/fhir:value ?patient ;\n",
    "                           qr:author/fhir:Reference.reference/fhir:value ?practitioner ;\n",
    "                           qr:item/qr:item.item ?item8_2 .\n",
    "    ?item8_2 qr:item.item.answer/qr:item.item.answer.valueString/fhir:value ?industryAnswer ;\n",
    "       qr:item.item.linkId/fhir:value \"8.2\" .\n",
    "}"
   ]
  },
  {
   "cell_type": "markdown",
   "metadata": {},
   "source": [
    "### Identify industries with common hazards"
   ]
  },
  {
   "cell_type": "code",
   "execution_count": 5,
   "metadata": {},
   "outputs": [
    {
     "data": {
      "application/vnd.jupyter.widget-view+json": {
       "model_id": "27e74f63430a424e944e59cb7a55466c",
       "version_major": 2,
       "version_minor": 0
      },
      "text/plain": [
       "Tab(children=(Output(layout=Layout(max_height='600px', max_width='940px', overflow='scroll')), Force(network=<…"
      ]
     },
     "metadata": {},
     "output_type": "display_data"
    }
   ],
   "source": [
    "%%sparql --expand-all\n",
    "\n",
    "PREFIX fhir: <http://hl7.org/fhir/>\n",
    "PREFIX qr: <http://hl7.org/fhir/QuestionnaireResponse.>\n",
    "\n",
    "\n",
    "CONSTRUCT {\n",
    "    ?parentItem8 fhir:value ?industryAnswer ;\n",
    "                 fhir:value ?hazardAnswer .\n",
    "    \n",
    "   # ?parentItem8 <http://www.w3.org/1999/02/22-rdf-syntax-ns#type> <http://hl7.org/fhir/QuestionnaireResponse> .\n",
    "   # ?hazardAnswer <http://www.w3.org/1999/02/22-rdf-syntax-ns#type> <http://hl7.org/fhir/Other> .\n",
    "   # ?industryAnswer <http://www.w3.org/1999/02/22-rdf-syntax-ns#type> <http://hl7.org/fhir/Other> .\n",
    "}\n",
    "WHERE {\n",
    "    ?industryAnswer ^fhir:value/^qr:item.item.answer.valueString/^qr:item.item.answer ?item8_2 .\n",
    "    ?item8_2 qr:item.item.linkId/fhir:value \"8.2\" ;\n",
    "             ^qr:item.item ?parentItem8 .\n",
    "    ?parentItem8 qr:item.item ?item8_3 .\n",
    "    ?item8_3 qr:item.item.linkId/fhir:value \"8.3\" ;\n",
    "             qr:item.item.answer/qr:item.item.answer.valueString/fhir:value ?hazardAnswer .\n",
    "             \n",
    "    FILTER('None' != ?hazardAnswer)\n",
    "}"
   ]
  },
  {
   "cell_type": "markdown",
   "metadata": {},
   "source": [
    "### Get questionnaires with similar answers for question group compared to single questionnaire"
   ]
  },
  {
   "cell_type": "code",
   "execution_count": null,
   "metadata": {
    "scrolled": false
   },
   "outputs": [],
   "source": [
    "%%sparql\n",
    "\n",
    "PREFIX fhir: <http://hl7.org/fhir/>\n",
    "PREFIX qr: <http://hl7.org/fhir/QuestionnaireResponse.>\n",
    "\n",
    "SELECT ?similarQR  (count(?sameAnswerValue) as ?sameAnswerCount) \n",
    "WHERE {\n",
    "    <http://hl7.org/fhir/QuestionnaireResponse/d2fe10a6-aba3-4cfa-9ed7-39ef2c67dfe3> qr:item ?parentItem2_a .\n",
    "    ?parentItem2_a qr:item.linkId/fhir:value \"2\" ;\n",
    "       qr:item.item ?subItem_a .\n",
    "    ?subItem_a qr:item.item.answer/qr:item.item.answer.valueInteger/fhir:value ?sameAnswerValue ;\n",
    "       qr:item.item.text/fhir:value ?question .\n",
    "    \n",
    "    ?similarQR qr:item ?parentItem2_b .\n",
    "    ?parentItem2_b qr:item.linkId/fhir:value \"2\" ;\n",
    "       qr:item.item ?subItem_b .\n",
    "    ?subItem_b qr:item.item.answer/qr:item.item.answer.valueInteger/fhir:value ?sameAnswerValue ;\n",
    "       qr:item.item.text/fhir:value ?question .\n",
    "}\n",
    "GROUP BY ?similarQR\n",
    "HAVING (?sameAnswerCount > 3)\n",
    "ORDER BY DESC(?sameAnswerCount)"
   ]
  }
 ],
 "metadata": {
  "kernelspec": {
   "display_name": "Python 3",
   "language": "python",
   "name": "python3"
  },
  "language_info": {
   "codemirror_mode": {
    "name": "ipython",
    "version": 3
   },
   "file_extension": ".py",
   "mimetype": "text/x-python",
   "name": "python",
   "nbconvert_exporter": "python",
   "pygments_lexer": "ipython3",
   "version": "3.7.12"
  }
 },
 "nbformat": 4,
 "nbformat_minor": 2
}
